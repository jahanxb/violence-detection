{
 "cells": [
  {
   "cell_type": "code",
   "execution_count": null,
   "metadata": {
    "pycharm": {
     "is_executing": true
    }
   },
   "outputs": [
    {
     "name": "stderr",
     "output_type": "stream",
     "text": [
      "ERROR:root:Internal Python error in the inspect module.\n",
      "Below is the traceback from this internal error.\n",
      "\n",
      "ERROR:root:Internal Python error in the inspect module.\n",
      "Below is the traceback from this internal error.\n",
      "\n",
      "ERROR:root:Internal Python error in the inspect module.\n",
      "Below is the traceback from this internal error.\n",
      "\n"
     ]
    },
    {
     "name": "stdout",
     "output_type": "stream",
     "text": [
      "Traceback (most recent call last):\n",
      "  File \"/home/jahanxb/PycharmProjects/Real-Time-Violence-Detection-in-Video-/venv/lib/python3.7/site-packages/IPython/core/interactiveshell.py\", line 3553, in run_code\n",
      "    exec(code_obj, self.user_global_ns, self.user_ns)\n",
      "  File \"/tmp/ipykernel_319094/4040076541.py\", line 4, in <module>\n",
      "    import tensorflow as tf\n",
      "  File \"/home/jahanxb/PycharmProjects/Real-Time-Violence-Detection-in-Video-/venv/lib/python3.7/site-packages/tensorflow/__init__.py\", line 98, in <module>\n",
      "    from tensorflow_core import *\n",
      "  File \"/home/jahanxb/PycharmProjects/Real-Time-Violence-Detection-in-Video-/venv/lib/python3.7/site-packages/tensorflow_core/__init__.py\", line 40, in <module>\n",
      "    from tensorflow.python.tools import module_util as _module_util\n",
      "  File \"<frozen importlib._bootstrap>\", line 983, in _find_and_load\n",
      "  File \"<frozen importlib._bootstrap>\", line 959, in _find_and_load_unlocked\n",
      "  File \"/home/jahanxb/PycharmProjects/Real-Time-Violence-Detection-in-Video-/venv/lib/python3.7/site-packages/tensorflow/__init__.py\", line 50, in __getattr__\n",
      "    module = self._load()\n",
      "  File \"/home/jahanxb/PycharmProjects/Real-Time-Violence-Detection-in-Video-/venv/lib/python3.7/site-packages/tensorflow/__init__.py\", line 44, in _load\n",
      "    module = _importlib.import_module(self.__name__)\n",
      "  File \"/usr/lib/python3.7/importlib/__init__.py\", line 127, in import_module\n",
      "    return _bootstrap._gcd_import(name[level:], package, level)\n",
      "  File \"/home/jahanxb/PycharmProjects/Real-Time-Violence-Detection-in-Video-/venv/lib/python3.7/site-packages/tensorflow_core/python/__init__.py\", line 52, in <module>\n",
      "    from tensorflow.core.framework.graph_pb2 import *\n",
      "  File \"/home/jahanxb/PycharmProjects/Real-Time-Violence-Detection-in-Video-/venv/lib/python3.7/site-packages/tensorflow_core/core/framework/graph_pb2.py\", line 16, in <module>\n",
      "    from tensorflow.core.framework import node_def_pb2 as tensorflow_dot_core_dot_framework_dot_node__def__pb2\n",
      "  File \"/home/jahanxb/PycharmProjects/Real-Time-Violence-Detection-in-Video-/venv/lib/python3.7/site-packages/tensorflow_core/core/framework/node_def_pb2.py\", line 16, in <module>\n",
      "    from tensorflow.core.framework import attr_value_pb2 as tensorflow_dot_core_dot_framework_dot_attr__value__pb2\n",
      "  File \"/home/jahanxb/PycharmProjects/Real-Time-Violence-Detection-in-Video-/venv/lib/python3.7/site-packages/tensorflow_core/core/framework/attr_value_pb2.py\", line 16, in <module>\n",
      "    from tensorflow.core.framework import tensor_pb2 as tensorflow_dot_core_dot_framework_dot_tensor__pb2\n",
      "  File \"/home/jahanxb/PycharmProjects/Real-Time-Violence-Detection-in-Video-/venv/lib/python3.7/site-packages/tensorflow_core/core/framework/tensor_pb2.py\", line 16, in <module>\n",
      "    from tensorflow.core.framework import resource_handle_pb2 as tensorflow_dot_core_dot_framework_dot_resource__handle__pb2\n",
      "  File \"/home/jahanxb/PycharmProjects/Real-Time-Violence-Detection-in-Video-/venv/lib/python3.7/site-packages/tensorflow_core/core/framework/resource_handle_pb2.py\", line 16, in <module>\n",
      "    from tensorflow.core.framework import tensor_shape_pb2 as tensorflow_dot_core_dot_framework_dot_tensor__shape__pb2\n",
      "  File \"/home/jahanxb/PycharmProjects/Real-Time-Violence-Detection-in-Video-/venv/lib/python3.7/site-packages/tensorflow_core/core/framework/tensor_shape_pb2.py\", line 42, in <module>\n",
      "    serialized_options=None, file=DESCRIPTOR),\n",
      "  File \"/home/jahanxb/PycharmProjects/Real-Time-Violence-Detection-in-Video-/venv/lib/python3.7/site-packages/google/protobuf/descriptor.py\", line 560, in __new__\n",
      "    _message.Message._CheckCalledFromGeneratedFile()\n",
      "TypeError: Descriptors cannot not be created directly.\n",
      "If this call came from a _pb2.py file, your generated code is out of date and must be regenerated with protoc >= 3.19.0.\n",
      "If you cannot immediately regenerate your protos, some other possible workarounds are:\n",
      " 1. Downgrade the protobuf package to 3.20.x or lower.\n",
      " 2. Set PROTOCOL_BUFFERS_PYTHON_IMPLEMENTATION=python (but this will use pure-Python parsing and will be much slower).\n",
      "\n",
      "More information: https://developers.google.com/protocol-buffers/docs/news/2022-05-06#python-updates\n",
      "\n",
      "During handling of the above exception, another exception occurred:\n",
      "\n",
      "Traceback (most recent call last):\n",
      "  File \"/home/jahanxb/PycharmProjects/Real-Time-Violence-Detection-in-Video-/venv/lib/python3.7/site-packages/IPython/core/interactiveshell.py\", line 2099, in showtraceback\n",
      "    stb = value._render_traceback_()\n",
      "AttributeError: 'TypeError' object has no attribute '_render_traceback_'\n",
      "\n",
      "During handling of the above exception, another exception occurred:\n",
      "\n",
      "Traceback (most recent call last):\n",
      "  File \"/home/jahanxb/PycharmProjects/Real-Time-Violence-Detection-in-Video-/venv/lib/python3.7/site-packages/IPython/core/ultratb.py\", line 1101, in get_records\n",
      "    return _fixed_getinnerframes(etb, number_of_lines_of_context, tb_offset)\n",
      "  File \"/home/jahanxb/PycharmProjects/Real-Time-Violence-Detection-in-Video-/venv/lib/python3.7/site-packages/IPython/core/ultratb.py\", line 248, in wrapped\n",
      "    return f(*args, **kwargs)\n",
      "  File \"/home/jahanxb/PycharmProjects/Real-Time-Violence-Detection-in-Video-/venv/lib/python3.7/site-packages/IPython/core/ultratb.py\", line 281, in _fixed_getinnerframes\n",
      "    records = fix_frame_records_filenames(inspect.getinnerframes(etb, context))\n",
      "  File \"/usr/lib/python3.7/inspect.py\", line 1502, in getinnerframes\n",
      "    frameinfo = (tb.tb_frame,) + getframeinfo(tb, context)\n",
      "  File \"/usr/lib/python3.7/inspect.py\", line 1460, in getframeinfo\n",
      "    filename = getsourcefile(frame) or getfile(frame)\n",
      "  File \"/usr/lib/python3.7/inspect.py\", line 696, in getsourcefile\n",
      "    if getattr(getmodule(object, filename), '__loader__', None) is not None:\n",
      "  File \"/usr/lib/python3.7/inspect.py\", line 733, in getmodule\n",
      "    if ismodule(module) and hasattr(module, '__file__'):\n",
      "  File \"/home/jahanxb/PycharmProjects/Real-Time-Violence-Detection-in-Video-/venv/lib/python3.7/site-packages/tensorflow/__init__.py\", line 50, in __getattr__\n",
      "    module = self._load()\n",
      "  File \"/home/jahanxb/PycharmProjects/Real-Time-Violence-Detection-in-Video-/venv/lib/python3.7/site-packages/tensorflow/__init__.py\", line 44, in _load\n",
      "    module = _importlib.import_module(self.__name__)\n",
      "  File \"/usr/lib/python3.7/importlib/__init__.py\", line 127, in import_module\n",
      "    return _bootstrap._gcd_import(name[level:], package, level)\n",
      "  File \"<frozen importlib._bootstrap>\", line 1006, in _gcd_import\n",
      "  File \"<frozen importlib._bootstrap>\", line 983, in _find_and_load\n",
      "  File \"<frozen importlib._bootstrap>\", line 953, in _find_and_load_unlocked\n",
      "  File \"<frozen importlib._bootstrap>\", line 219, in _call_with_frames_removed\n",
      "  File \"<frozen importlib._bootstrap>\", line 1006, in _gcd_import\n",
      "  File \"<frozen importlib._bootstrap>\", line 983, in _find_and_load\n",
      "  File \"<frozen importlib._bootstrap>\", line 967, in _find_and_load_unlocked\n",
      "  File \"<frozen importlib._bootstrap>\", line 677, in _load_unlocked\n",
      "  File \"<frozen importlib._bootstrap_external>\", line 728, in exec_module\n",
      "  File \"<frozen importlib._bootstrap>\", line 219, in _call_with_frames_removed\n",
      "  File \"/home/jahanxb/PycharmProjects/Real-Time-Violence-Detection-in-Video-/venv/lib/python3.7/site-packages/tensorflow_core/__init__.py\", line 42, in <module>\n",
      "    from . _api.v2 import audio\n",
      "  File \"/home/jahanxb/PycharmProjects/Real-Time-Violence-Detection-in-Video-/venv/lib/python3.7/site-packages/tensorflow_core/_api/v2/audio/__init__.py\", line 10, in <module>\n",
      "    from tensorflow.python.ops.gen_audio_ops import decode_wav\n",
      "  File \"/home/jahanxb/PycharmProjects/Real-Time-Violence-Detection-in-Video-/venv/lib/python3.7/site-packages/tensorflow_core/python/ops/gen_audio_ops.py\", line 11, in <module>\n",
      "    from tensorflow.python.eager import context as _context\n",
      "  File \"/home/jahanxb/PycharmProjects/Real-Time-Violence-Detection-in-Video-/venv/lib/python3.7/site-packages/tensorflow_core/python/eager/context.py\", line 29, in <module>\n",
      "    from tensorflow.core.protobuf import config_pb2\n",
      "  File \"/home/jahanxb/PycharmProjects/Real-Time-Violence-Detection-in-Video-/venv/lib/python3.7/site-packages/tensorflow_core/core/protobuf/config_pb2.py\", line 16, in <module>\n",
      "    from tensorflow.core.framework import cost_graph_pb2 as tensorflow_dot_core_dot_framework_dot_cost__graph__pb2\n",
      "  File \"/home/jahanxb/PycharmProjects/Real-Time-Violence-Detection-in-Video-/venv/lib/python3.7/site-packages/tensorflow_core/core/framework/cost_graph_pb2.py\", line 16, in <module>\n",
      "    from tensorflow.core.framework import tensor_shape_pb2 as tensorflow_dot_core_dot_framework_dot_tensor__shape__pb2\n",
      "  File \"/home/jahanxb/PycharmProjects/Real-Time-Violence-Detection-in-Video-/venv/lib/python3.7/site-packages/tensorflow_core/core/framework/tensor_shape_pb2.py\", line 42, in <module>\n",
      "    serialized_options=None, file=DESCRIPTOR),\n",
      "  File \"/home/jahanxb/PycharmProjects/Real-Time-Violence-Detection-in-Video-/venv/lib/python3.7/site-packages/google/protobuf/descriptor.py\", line 560, in __new__\n",
      "    _message.Message._CheckCalledFromGeneratedFile()\n",
      "TypeError: Descriptors cannot not be created directly.\n",
      "If this call came from a _pb2.py file, your generated code is out of date and must be regenerated with protoc >= 3.19.0.\n",
      "If you cannot immediately regenerate your protos, some other possible workarounds are:\n",
      " 1. Downgrade the protobuf package to 3.20.x or lower.\n",
      " 2. Set PROTOCOL_BUFFERS_PYTHON_IMPLEMENTATION=python (but this will use pure-Python parsing and will be much slower).\n",
      "\n",
      "More information: https://developers.google.com/protocol-buffers/docs/news/2022-05-06#python-updates\n",
      "Traceback (most recent call last):\n",
      "  File \"/home/jahanxb/PycharmProjects/Real-Time-Violence-Detection-in-Video-/venv/lib/python3.7/site-packages/IPython/core/interactiveshell.py\", line 3553, in run_code\n",
      "    exec(code_obj, self.user_global_ns, self.user_ns)\n",
      "  File \"/tmp/ipykernel_319094/4040076541.py\", line 4, in <module>\n",
      "    import tensorflow as tf\n",
      "  File \"/home/jahanxb/PycharmProjects/Real-Time-Violence-Detection-in-Video-/venv/lib/python3.7/site-packages/tensorflow/__init__.py\", line 98, in <module>\n",
      "    from tensorflow_core import *\n",
      "  File \"/home/jahanxb/PycharmProjects/Real-Time-Violence-Detection-in-Video-/venv/lib/python3.7/site-packages/tensorflow_core/__init__.py\", line 40, in <module>\n",
      "    from tensorflow.python.tools import module_util as _module_util\n",
      "  File \"<frozen importlib._bootstrap>\", line 983, in _find_and_load\n",
      "  File \"<frozen importlib._bootstrap>\", line 959, in _find_and_load_unlocked\n",
      "  File \"/home/jahanxb/PycharmProjects/Real-Time-Violence-Detection-in-Video-/venv/lib/python3.7/site-packages/tensorflow/__init__.py\", line 50, in __getattr__\n",
      "    module = self._load()\n",
      "  File \"/home/jahanxb/PycharmProjects/Real-Time-Violence-Detection-in-Video-/venv/lib/python3.7/site-packages/tensorflow/__init__.py\", line 44, in _load\n",
      "    module = _importlib.import_module(self.__name__)\n",
      "  File \"/usr/lib/python3.7/importlib/__init__.py\", line 127, in import_module\n",
      "    return _bootstrap._gcd_import(name[level:], package, level)\n",
      "  File \"/home/jahanxb/PycharmProjects/Real-Time-Violence-Detection-in-Video-/venv/lib/python3.7/site-packages/tensorflow_core/python/__init__.py\", line 52, in <module>\n",
      "    from tensorflow.core.framework.graph_pb2 import *\n",
      "  File \"/home/jahanxb/PycharmProjects/Real-Time-Violence-Detection-in-Video-/venv/lib/python3.7/site-packages/tensorflow_core/core/framework/graph_pb2.py\", line 16, in <module>\n",
      "    from tensorflow.core.framework import node_def_pb2 as tensorflow_dot_core_dot_framework_dot_node__def__pb2\n",
      "  File \"/home/jahanxb/PycharmProjects/Real-Time-Violence-Detection-in-Video-/venv/lib/python3.7/site-packages/tensorflow_core/core/framework/node_def_pb2.py\", line 16, in <module>\n",
      "    from tensorflow.core.framework import attr_value_pb2 as tensorflow_dot_core_dot_framework_dot_attr__value__pb2\n",
      "  File \"/home/jahanxb/PycharmProjects/Real-Time-Violence-Detection-in-Video-/venv/lib/python3.7/site-packages/tensorflow_core/core/framework/attr_value_pb2.py\", line 16, in <module>\n",
      "    from tensorflow.core.framework import tensor_pb2 as tensorflow_dot_core_dot_framework_dot_tensor__pb2\n",
      "  File \"/home/jahanxb/PycharmProjects/Real-Time-Violence-Detection-in-Video-/venv/lib/python3.7/site-packages/tensorflow_core/core/framework/tensor_pb2.py\", line 16, in <module>\n",
      "    from tensorflow.core.framework import resource_handle_pb2 as tensorflow_dot_core_dot_framework_dot_resource__handle__pb2\n",
      "  File \"/home/jahanxb/PycharmProjects/Real-Time-Violence-Detection-in-Video-/venv/lib/python3.7/site-packages/tensorflow_core/core/framework/resource_handle_pb2.py\", line 16, in <module>\n",
      "    from tensorflow.core.framework import tensor_shape_pb2 as tensorflow_dot_core_dot_framework_dot_tensor__shape__pb2\n",
      "  File \"/home/jahanxb/PycharmProjects/Real-Time-Violence-Detection-in-Video-/venv/lib/python3.7/site-packages/tensorflow_core/core/framework/tensor_shape_pb2.py\", line 42, in <module>\n",
      "    serialized_options=None, file=DESCRIPTOR),\n",
      "  File \"/home/jahanxb/PycharmProjects/Real-Time-Violence-Detection-in-Video-/venv/lib/python3.7/site-packages/google/protobuf/descriptor.py\", line 560, in __new__\n",
      "    _message.Message._CheckCalledFromGeneratedFile()\n",
      "TypeError: Descriptors cannot not be created directly.\n",
      "If this call came from a _pb2.py file, your generated code is out of date and must be regenerated with protoc >= 3.19.0.\n",
      "If you cannot immediately regenerate your protos, some other possible workarounds are:\n",
      " 1. Downgrade the protobuf package to 3.20.x or lower.\n",
      " 2. Set PROTOCOL_BUFFERS_PYTHON_IMPLEMENTATION=python (but this will use pure-Python parsing and will be much slower).\n",
      "\n",
      "More information: https://developers.google.com/protocol-buffers/docs/news/2022-05-06#python-updates\n",
      "\n",
      "During handling of the above exception, another exception occurred:\n",
      "\n",
      "Traceback (most recent call last):\n",
      "  File \"/home/jahanxb/PycharmProjects/Real-Time-Violence-Detection-in-Video-/venv/lib/python3.7/site-packages/IPython/core/interactiveshell.py\", line 2099, in showtraceback\n",
      "    stb = value._render_traceback_()\n",
      "AttributeError: 'TypeError' object has no attribute '_render_traceback_'\n",
      "\n",
      "During handling of the above exception, another exception occurred:\n",
      "\n",
      "Traceback (most recent call last):\n",
      "  File \"/home/jahanxb/PycharmProjects/Real-Time-Violence-Detection-in-Video-/venv/lib/python3.7/site-packages/IPython/core/interactiveshell.py\", line 3473, in run_ast_nodes\n",
      "    if (await self.run_code(code, result,  async_=asy)):\n",
      "  File \"/home/jahanxb/PycharmProjects/Real-Time-Violence-Detection-in-Video-/venv/lib/python3.7/site-packages/IPython/core/interactiveshell.py\", line 3575, in run_code\n",
      "    self.showtraceback(running_compiled_code=True)\n",
      "  File \"/home/jahanxb/PycharmProjects/Real-Time-Violence-Detection-in-Video-/venv/lib/python3.7/site-packages/IPython/core/interactiveshell.py\", line 2102, in showtraceback\n",
      "    value, tb, tb_offset=tb_offset)\n",
      "  File \"/home/jahanxb/PycharmProjects/Real-Time-Violence-Detection-in-Video-/venv/lib/python3.7/site-packages/IPython/core/ultratb.py\", line 1368, in structured_traceback\n",
      "    self, etype, value, tb, tb_offset, number_of_lines_of_context)\n",
      "  File \"/home/jahanxb/PycharmProjects/Real-Time-Violence-Detection-in-Video-/venv/lib/python3.7/site-packages/IPython/core/ultratb.py\", line 1268, in structured_traceback\n",
      "    self, etype, value, tb, tb_offset, number_of_lines_of_context\n",
      "  File \"/home/jahanxb/PycharmProjects/Real-Time-Violence-Detection-in-Video-/venv/lib/python3.7/site-packages/IPython/core/ultratb.py\", line 1125, in structured_traceback\n",
      "    tb_offset)\n",
      "  File \"/home/jahanxb/PycharmProjects/Real-Time-Violence-Detection-in-Video-/venv/lib/python3.7/site-packages/IPython/core/ultratb.py\", line 1082, in format_exception_as_a_whole\n",
      "    last_unique, recursion_repeat = find_recursion(orig_etype, evalue, records)\n",
      "  File \"/home/jahanxb/PycharmProjects/Real-Time-Violence-Detection-in-Video-/venv/lib/python3.7/site-packages/IPython/core/ultratb.py\", line 382, in find_recursion\n",
      "    return len(records), 0\n",
      "TypeError: object of type 'NoneType' has no len()\n",
      "\n",
      "During handling of the above exception, another exception occurred:\n",
      "\n",
      "Traceback (most recent call last):\n",
      "  File \"/home/jahanxb/PycharmProjects/Real-Time-Violence-Detection-in-Video-/venv/lib/python3.7/site-packages/IPython/core/interactiveshell.py\", line 2099, in showtraceback\n",
      "    stb = value._render_traceback_()\n",
      "AttributeError: 'TypeError' object has no attribute '_render_traceback_'\n",
      "\n",
      "During handling of the above exception, another exception occurred:\n",
      "\n",
      "Traceback (most recent call last):\n",
      "  File \"/home/jahanxb/PycharmProjects/Real-Time-Violence-Detection-in-Video-/venv/lib/python3.7/site-packages/IPython/core/ultratb.py\", line 1101, in get_records\n",
      "    return _fixed_getinnerframes(etb, number_of_lines_of_context, tb_offset)\n",
      "  File \"/home/jahanxb/PycharmProjects/Real-Time-Violence-Detection-in-Video-/venv/lib/python3.7/site-packages/IPython/core/ultratb.py\", line 248, in wrapped\n",
      "    return f(*args, **kwargs)\n",
      "  File \"/home/jahanxb/PycharmProjects/Real-Time-Violence-Detection-in-Video-/venv/lib/python3.7/site-packages/IPython/core/ultratb.py\", line 281, in _fixed_getinnerframes\n",
      "    records = fix_frame_records_filenames(inspect.getinnerframes(etb, context))\n",
      "  File \"/usr/lib/python3.7/inspect.py\", line 1502, in getinnerframes\n",
      "    frameinfo = (tb.tb_frame,) + getframeinfo(tb, context)\n",
      "  File \"/usr/lib/python3.7/inspect.py\", line 1460, in getframeinfo\n",
      "    filename = getsourcefile(frame) or getfile(frame)\n",
      "  File \"/usr/lib/python3.7/inspect.py\", line 696, in getsourcefile\n",
      "    if getattr(getmodule(object, filename), '__loader__', None) is not None:\n",
      "  File \"/usr/lib/python3.7/inspect.py\", line 733, in getmodule\n",
      "    if ismodule(module) and hasattr(module, '__file__'):\n",
      "  File \"/home/jahanxb/PycharmProjects/Real-Time-Violence-Detection-in-Video-/venv/lib/python3.7/site-packages/tensorflow/__init__.py\", line 50, in __getattr__\n",
      "    module = self._load()\n",
      "  File \"/home/jahanxb/PycharmProjects/Real-Time-Violence-Detection-in-Video-/venv/lib/python3.7/site-packages/tensorflow/__init__.py\", line 44, in _load\n",
      "    module = _importlib.import_module(self.__name__)\n",
      "  File \"/usr/lib/python3.7/importlib/__init__.py\", line 127, in import_module\n",
      "    return _bootstrap._gcd_import(name[level:], package, level)\n",
      "  File \"<frozen importlib._bootstrap>\", line 1006, in _gcd_import\n",
      "  File \"<frozen importlib._bootstrap>\", line 983, in _find_and_load\n",
      "  File \"<frozen importlib._bootstrap>\", line 953, in _find_and_load_unlocked\n",
      "  File \"<frozen importlib._bootstrap>\", line 219, in _call_with_frames_removed\n",
      "  File \"<frozen importlib._bootstrap>\", line 1006, in _gcd_import\n",
      "  File \"<frozen importlib._bootstrap>\", line 983, in _find_and_load\n",
      "  File \"<frozen importlib._bootstrap>\", line 967, in _find_and_load_unlocked\n",
      "  File \"<frozen importlib._bootstrap>\", line 677, in _load_unlocked\n",
      "  File \"<frozen importlib._bootstrap_external>\", line 728, in exec_module\n",
      "  File \"<frozen importlib._bootstrap>\", line 219, in _call_with_frames_removed\n",
      "  File \"/home/jahanxb/PycharmProjects/Real-Time-Violence-Detection-in-Video-/venv/lib/python3.7/site-packages/tensorflow_core/__init__.py\", line 42, in <module>\n",
      "    from . _api.v2 import audio\n",
      "  File \"/home/jahanxb/PycharmProjects/Real-Time-Violence-Detection-in-Video-/venv/lib/python3.7/site-packages/tensorflow_core/_api/v2/audio/__init__.py\", line 10, in <module>\n",
      "    from tensorflow.python.ops.gen_audio_ops import decode_wav\n",
      "  File \"/home/jahanxb/PycharmProjects/Real-Time-Violence-Detection-in-Video-/venv/lib/python3.7/site-packages/tensorflow_core/python/ops/gen_audio_ops.py\", line 11, in <module>\n",
      "    from tensorflow.python.eager import context as _context\n",
      "  File \"/home/jahanxb/PycharmProjects/Real-Time-Violence-Detection-in-Video-/venv/lib/python3.7/site-packages/tensorflow_core/python/eager/context.py\", line 29, in <module>\n",
      "    from tensorflow.core.protobuf import config_pb2\n",
      "  File \"/home/jahanxb/PycharmProjects/Real-Time-Violence-Detection-in-Video-/venv/lib/python3.7/site-packages/tensorflow_core/core/protobuf/config_pb2.py\", line 16, in <module>\n",
      "    from tensorflow.core.framework import cost_graph_pb2 as tensorflow_dot_core_dot_framework_dot_cost__graph__pb2\n",
      "  File \"/home/jahanxb/PycharmProjects/Real-Time-Violence-Detection-in-Video-/venv/lib/python3.7/site-packages/tensorflow_core/core/framework/cost_graph_pb2.py\", line 16, in <module>\n",
      "    from tensorflow.core.framework import tensor_shape_pb2 as tensorflow_dot_core_dot_framework_dot_tensor__shape__pb2\n",
      "  File \"/home/jahanxb/PycharmProjects/Real-Time-Violence-Detection-in-Video-/venv/lib/python3.7/site-packages/tensorflow_core/core/framework/tensor_shape_pb2.py\", line 42, in <module>\n",
      "    serialized_options=None, file=DESCRIPTOR),\n",
      "  File \"/home/jahanxb/PycharmProjects/Real-Time-Violence-Detection-in-Video-/venv/lib/python3.7/site-packages/google/protobuf/descriptor.py\", line 560, in __new__\n",
      "    _message.Message._CheckCalledFromGeneratedFile()\n",
      "TypeError: Descriptors cannot not be created directly.\n",
      "If this call came from a _pb2.py file, your generated code is out of date and must be regenerated with protoc >= 3.19.0.\n",
      "If you cannot immediately regenerate your protos, some other possible workarounds are:\n",
      " 1. Downgrade the protobuf package to 3.20.x or lower.\n",
      " 2. Set PROTOCOL_BUFFERS_PYTHON_IMPLEMENTATION=python (but this will use pure-Python parsing and will be much slower).\n",
      "\n",
      "More information: https://developers.google.com/protocol-buffers/docs/news/2022-05-06#python-updates\n",
      "Traceback (most recent call last):\n",
      "  File \"/home/jahanxb/PycharmProjects/Real-Time-Violence-Detection-in-Video-/venv/lib/python3.7/site-packages/IPython/core/interactiveshell.py\", line 3553, in run_code\n",
      "    exec(code_obj, self.user_global_ns, self.user_ns)\n",
      "  File \"/tmp/ipykernel_319094/4040076541.py\", line 4, in <module>\n",
      "    import tensorflow as tf\n",
      "  File \"/home/jahanxb/PycharmProjects/Real-Time-Violence-Detection-in-Video-/venv/lib/python3.7/site-packages/tensorflow/__init__.py\", line 98, in <module>\n",
      "    from tensorflow_core import *\n",
      "  File \"/home/jahanxb/PycharmProjects/Real-Time-Violence-Detection-in-Video-/venv/lib/python3.7/site-packages/tensorflow_core/__init__.py\", line 40, in <module>\n",
      "    from tensorflow.python.tools import module_util as _module_util\n",
      "  File \"<frozen importlib._bootstrap>\", line 983, in _find_and_load\n",
      "  File \"<frozen importlib._bootstrap>\", line 959, in _find_and_load_unlocked\n",
      "  File \"/home/jahanxb/PycharmProjects/Real-Time-Violence-Detection-in-Video-/venv/lib/python3.7/site-packages/tensorflow/__init__.py\", line 50, in __getattr__\n",
      "    module = self._load()\n",
      "  File \"/home/jahanxb/PycharmProjects/Real-Time-Violence-Detection-in-Video-/venv/lib/python3.7/site-packages/tensorflow/__init__.py\", line 44, in _load\n",
      "    module = _importlib.import_module(self.__name__)\n",
      "  File \"/usr/lib/python3.7/importlib/__init__.py\", line 127, in import_module\n",
      "    return _bootstrap._gcd_import(name[level:], package, level)\n",
      "  File \"/home/jahanxb/PycharmProjects/Real-Time-Violence-Detection-in-Video-/venv/lib/python3.7/site-packages/tensorflow_core/python/__init__.py\", line 52, in <module>\n",
      "    from tensorflow.core.framework.graph_pb2 import *\n",
      "  File \"/home/jahanxb/PycharmProjects/Real-Time-Violence-Detection-in-Video-/venv/lib/python3.7/site-packages/tensorflow_core/core/framework/graph_pb2.py\", line 16, in <module>\n",
      "    from tensorflow.core.framework import node_def_pb2 as tensorflow_dot_core_dot_framework_dot_node__def__pb2\n",
      "  File \"/home/jahanxb/PycharmProjects/Real-Time-Violence-Detection-in-Video-/venv/lib/python3.7/site-packages/tensorflow_core/core/framework/node_def_pb2.py\", line 16, in <module>\n",
      "    from tensorflow.core.framework import attr_value_pb2 as tensorflow_dot_core_dot_framework_dot_attr__value__pb2\n",
      "  File \"/home/jahanxb/PycharmProjects/Real-Time-Violence-Detection-in-Video-/venv/lib/python3.7/site-packages/tensorflow_core/core/framework/attr_value_pb2.py\", line 16, in <module>\n",
      "    from tensorflow.core.framework import tensor_pb2 as tensorflow_dot_core_dot_framework_dot_tensor__pb2\n",
      "  File \"/home/jahanxb/PycharmProjects/Real-Time-Violence-Detection-in-Video-/venv/lib/python3.7/site-packages/tensorflow_core/core/framework/tensor_pb2.py\", line 16, in <module>\n",
      "    from tensorflow.core.framework import resource_handle_pb2 as tensorflow_dot_core_dot_framework_dot_resource__handle__pb2\n",
      "  File \"/home/jahanxb/PycharmProjects/Real-Time-Violence-Detection-in-Video-/venv/lib/python3.7/site-packages/tensorflow_core/core/framework/resource_handle_pb2.py\", line 16, in <module>\n",
      "    from tensorflow.core.framework import tensor_shape_pb2 as tensorflow_dot_core_dot_framework_dot_tensor__shape__pb2\n",
      "  File \"/home/jahanxb/PycharmProjects/Real-Time-Violence-Detection-in-Video-/venv/lib/python3.7/site-packages/tensorflow_core/core/framework/tensor_shape_pb2.py\", line 42, in <module>\n",
      "    serialized_options=None, file=DESCRIPTOR),\n",
      "  File \"/home/jahanxb/PycharmProjects/Real-Time-Violence-Detection-in-Video-/venv/lib/python3.7/site-packages/google/protobuf/descriptor.py\", line 560, in __new__\n",
      "    _message.Message._CheckCalledFromGeneratedFile()\n",
      "TypeError: Descriptors cannot not be created directly.\n",
      "If this call came from a _pb2.py file, your generated code is out of date and must be regenerated with protoc >= 3.19.0.\n",
      "If you cannot immediately regenerate your protos, some other possible workarounds are:\n",
      " 1. Downgrade the protobuf package to 3.20.x or lower.\n",
      " 2. Set PROTOCOL_BUFFERS_PYTHON_IMPLEMENTATION=python (but this will use pure-Python parsing and will be much slower).\n",
      "\n",
      "More information: https://developers.google.com/protocol-buffers/docs/news/2022-05-06#python-updates\n",
      "\n",
      "During handling of the above exception, another exception occurred:\n",
      "\n",
      "Traceback (most recent call last):\n",
      "  File \"/home/jahanxb/PycharmProjects/Real-Time-Violence-Detection-in-Video-/venv/lib/python3.7/site-packages/IPython/core/interactiveshell.py\", line 2099, in showtraceback\n",
      "    stb = value._render_traceback_()\n",
      "AttributeError: 'TypeError' object has no attribute '_render_traceback_'\n",
      "\n",
      "During handling of the above exception, another exception occurred:\n",
      "\n",
      "Traceback (most recent call last):\n",
      "  File \"/home/jahanxb/PycharmProjects/Real-Time-Violence-Detection-in-Video-/venv/lib/python3.7/site-packages/IPython/core/interactiveshell.py\", line 3473, in run_ast_nodes\n",
      "    if (await self.run_code(code, result,  async_=asy)):\n",
      "  File \"/home/jahanxb/PycharmProjects/Real-Time-Violence-Detection-in-Video-/venv/lib/python3.7/site-packages/IPython/core/interactiveshell.py\", line 3575, in run_code\n",
      "    self.showtraceback(running_compiled_code=True)\n",
      "  File \"/home/jahanxb/PycharmProjects/Real-Time-Violence-Detection-in-Video-/venv/lib/python3.7/site-packages/IPython/core/interactiveshell.py\", line 2102, in showtraceback\n",
      "    value, tb, tb_offset=tb_offset)\n",
      "  File \"/home/jahanxb/PycharmProjects/Real-Time-Violence-Detection-in-Video-/venv/lib/python3.7/site-packages/IPython/core/ultratb.py\", line 1368, in structured_traceback\n",
      "    self, etype, value, tb, tb_offset, number_of_lines_of_context)\n",
      "  File \"/home/jahanxb/PycharmProjects/Real-Time-Violence-Detection-in-Video-/venv/lib/python3.7/site-packages/IPython/core/ultratb.py\", line 1268, in structured_traceback\n",
      "    self, etype, value, tb, tb_offset, number_of_lines_of_context\n",
      "  File \"/home/jahanxb/PycharmProjects/Real-Time-Violence-Detection-in-Video-/venv/lib/python3.7/site-packages/IPython/core/ultratb.py\", line 1125, in structured_traceback\n",
      "    tb_offset)\n",
      "  File \"/home/jahanxb/PycharmProjects/Real-Time-Violence-Detection-in-Video-/venv/lib/python3.7/site-packages/IPython/core/ultratb.py\", line 1082, in format_exception_as_a_whole\n",
      "    last_unique, recursion_repeat = find_recursion(orig_etype, evalue, records)\n",
      "  File \"/home/jahanxb/PycharmProjects/Real-Time-Violence-Detection-in-Video-/venv/lib/python3.7/site-packages/IPython/core/ultratb.py\", line 382, in find_recursion\n",
      "    return len(records), 0\n",
      "TypeError: object of type 'NoneType' has no len()\n",
      "\n",
      "During handling of the above exception, another exception occurred:\n",
      "\n",
      "Traceback (most recent call last):\n",
      "  File \"/home/jahanxb/PycharmProjects/Real-Time-Violence-Detection-in-Video-/venv/lib/python3.7/site-packages/IPython/core/interactiveshell.py\", line 2099, in showtraceback\n",
      "    stb = value._render_traceback_()\n",
      "AttributeError: 'TypeError' object has no attribute '_render_traceback_'\n",
      "\n",
      "During handling of the above exception, another exception occurred:\n",
      "\n",
      "Traceback (most recent call last):\n",
      "  File \"/home/jahanxb/PycharmProjects/Real-Time-Violence-Detection-in-Video-/venv/lib/python3.7/site-packages/IPython/core/interactiveshell.py\", line 3030, in _run_cell\n",
      "    return runner(coro)\n",
      "  File \"/home/jahanxb/PycharmProjects/Real-Time-Violence-Detection-in-Video-/venv/lib/python3.7/site-packages/IPython/core/async_helpers.py\", line 78, in _pseudo_sync_runner\n",
      "    coro.send(None)\n",
      "  File \"/home/jahanxb/PycharmProjects/Real-Time-Violence-Detection-in-Video-/venv/lib/python3.7/site-packages/IPython/core/interactiveshell.py\", line 3258, in run_cell_async\n",
      "    interactivity=interactivity, compiler=compiler, result=result)\n",
      "  File \"/home/jahanxb/PycharmProjects/Real-Time-Violence-Detection-in-Video-/venv/lib/python3.7/site-packages/IPython/core/interactiveshell.py\", line 3492, in run_ast_nodes\n",
      "    self.showtraceback()\n",
      "  File \"/home/jahanxb/PycharmProjects/Real-Time-Violence-Detection-in-Video-/venv/lib/python3.7/site-packages/IPython/core/interactiveshell.py\", line 2102, in showtraceback\n",
      "    value, tb, tb_offset=tb_offset)\n",
      "  File \"/home/jahanxb/PycharmProjects/Real-Time-Violence-Detection-in-Video-/venv/lib/python3.7/site-packages/IPython/core/ultratb.py\", line 1368, in structured_traceback\n",
      "    self, etype, value, tb, tb_offset, number_of_lines_of_context)\n",
      "  File \"/home/jahanxb/PycharmProjects/Real-Time-Violence-Detection-in-Video-/venv/lib/python3.7/site-packages/IPython/core/ultratb.py\", line 1268, in structured_traceback\n",
      "    self, etype, value, tb, tb_offset, number_of_lines_of_context\n",
      "  File \"/home/jahanxb/PycharmProjects/Real-Time-Violence-Detection-in-Video-/venv/lib/python3.7/site-packages/IPython/core/ultratb.py\", line 1143, in structured_traceback\n",
      "    chained_exceptions_tb_offset)\n",
      "  File \"/home/jahanxb/PycharmProjects/Real-Time-Violence-Detection-in-Video-/venv/lib/python3.7/site-packages/IPython/core/ultratb.py\", line 1082, in format_exception_as_a_whole\n",
      "    last_unique, recursion_repeat = find_recursion(orig_etype, evalue, records)\n",
      "  File \"/home/jahanxb/PycharmProjects/Real-Time-Violence-Detection-in-Video-/venv/lib/python3.7/site-packages/IPython/core/ultratb.py\", line 382, in find_recursion\n",
      "    return len(records), 0\n",
      "TypeError: object of type 'NoneType' has no len()\n",
      "\n",
      "During handling of the above exception, another exception occurred:\n",
      "\n",
      "Traceback (most recent call last):\n",
      "  File \"/home/jahanxb/PycharmProjects/Real-Time-Violence-Detection-in-Video-/venv/lib/python3.7/site-packages/IPython/core/interactiveshell.py\", line 2099, in showtraceback\n",
      "    stb = value._render_traceback_()\n",
      "AttributeError: 'TypeError' object has no attribute '_render_traceback_'\n",
      "\n",
      "During handling of the above exception, another exception occurred:\n",
      "\n",
      "Traceback (most recent call last):\n",
      "  File \"/home/jahanxb/PycharmProjects/Real-Time-Violence-Detection-in-Video-/venv/lib/python3.7/site-packages/IPython/core/ultratb.py\", line 1101, in get_records\n",
      "    return _fixed_getinnerframes(etb, number_of_lines_of_context, tb_offset)\n",
      "  File \"/home/jahanxb/PycharmProjects/Real-Time-Violence-Detection-in-Video-/venv/lib/python3.7/site-packages/IPython/core/ultratb.py\", line 248, in wrapped\n",
      "    return f(*args, **kwargs)\n",
      "  File \"/home/jahanxb/PycharmProjects/Real-Time-Violence-Detection-in-Video-/venv/lib/python3.7/site-packages/IPython/core/ultratb.py\", line 281, in _fixed_getinnerframes\n",
      "    records = fix_frame_records_filenames(inspect.getinnerframes(etb, context))\n",
      "  File \"/usr/lib/python3.7/inspect.py\", line 1502, in getinnerframes\n",
      "    frameinfo = (tb.tb_frame,) + getframeinfo(tb, context)\n",
      "  File \"/usr/lib/python3.7/inspect.py\", line 1460, in getframeinfo\n",
      "    filename = getsourcefile(frame) or getfile(frame)\n",
      "  File \"/usr/lib/python3.7/inspect.py\", line 696, in getsourcefile\n",
      "    if getattr(getmodule(object, filename), '__loader__', None) is not None:\n",
      "  File \"/usr/lib/python3.7/inspect.py\", line 733, in getmodule\n",
      "    if ismodule(module) and hasattr(module, '__file__'):\n",
      "  File \"/home/jahanxb/PycharmProjects/Real-Time-Violence-Detection-in-Video-/venv/lib/python3.7/site-packages/tensorflow/__init__.py\", line 50, in __getattr__\n",
      "    module = self._load()\n",
      "  File \"/home/jahanxb/PycharmProjects/Real-Time-Violence-Detection-in-Video-/venv/lib/python3.7/site-packages/tensorflow/__init__.py\", line 44, in _load\n",
      "    module = _importlib.import_module(self.__name__)\n",
      "  File \"/usr/lib/python3.7/importlib/__init__.py\", line 127, in import_module\n",
      "    return _bootstrap._gcd_import(name[level:], package, level)\n",
      "  File \"<frozen importlib._bootstrap>\", line 1006, in _gcd_import\n",
      "  File \"<frozen importlib._bootstrap>\", line 983, in _find_and_load\n",
      "  File \"<frozen importlib._bootstrap>\", line 953, in _find_and_load_unlocked\n",
      "  File \"<frozen importlib._bootstrap>\", line 219, in _call_with_frames_removed\n",
      "  File \"<frozen importlib._bootstrap>\", line 1006, in _gcd_import\n",
      "  File \"<frozen importlib._bootstrap>\", line 983, in _find_and_load\n",
      "  File \"<frozen importlib._bootstrap>\", line 967, in _find_and_load_unlocked\n",
      "  File \"<frozen importlib._bootstrap>\", line 677, in _load_unlocked\n",
      "  File \"<frozen importlib._bootstrap_external>\", line 728, in exec_module\n",
      "  File \"<frozen importlib._bootstrap>\", line 219, in _call_with_frames_removed\n",
      "  File \"/home/jahanxb/PycharmProjects/Real-Time-Violence-Detection-in-Video-/venv/lib/python3.7/site-packages/tensorflow_core/__init__.py\", line 42, in <module>\n",
      "    from . _api.v2 import audio\n",
      "  File \"/home/jahanxb/PycharmProjects/Real-Time-Violence-Detection-in-Video-/venv/lib/python3.7/site-packages/tensorflow_core/_api/v2/audio/__init__.py\", line 10, in <module>\n",
      "    from tensorflow.python.ops.gen_audio_ops import decode_wav\n",
      "  File \"/home/jahanxb/PycharmProjects/Real-Time-Violence-Detection-in-Video-/venv/lib/python3.7/site-packages/tensorflow_core/python/ops/gen_audio_ops.py\", line 11, in <module>\n",
      "    from tensorflow.python.eager import context as _context\n",
      "  File \"/home/jahanxb/PycharmProjects/Real-Time-Violence-Detection-in-Video-/venv/lib/python3.7/site-packages/tensorflow_core/python/eager/context.py\", line 29, in <module>\n",
      "    from tensorflow.core.protobuf import config_pb2\n",
      "  File \"/home/jahanxb/PycharmProjects/Real-Time-Violence-Detection-in-Video-/venv/lib/python3.7/site-packages/tensorflow_core/core/protobuf/config_pb2.py\", line 16, in <module>\n",
      "    from tensorflow.core.framework import cost_graph_pb2 as tensorflow_dot_core_dot_framework_dot_cost__graph__pb2\n",
      "  File \"/home/jahanxb/PycharmProjects/Real-Time-Violence-Detection-in-Video-/venv/lib/python3.7/site-packages/tensorflow_core/core/framework/cost_graph_pb2.py\", line 16, in <module>\n",
      "    from tensorflow.core.framework import tensor_shape_pb2 as tensorflow_dot_core_dot_framework_dot_tensor__shape__pb2\n",
      "  File \"/home/jahanxb/PycharmProjects/Real-Time-Violence-Detection-in-Video-/venv/lib/python3.7/site-packages/tensorflow_core/core/framework/tensor_shape_pb2.py\", line 42, in <module>\n",
      "    serialized_options=None, file=DESCRIPTOR),\n",
      "  File \"/home/jahanxb/PycharmProjects/Real-Time-Violence-Detection-in-Video-/venv/lib/python3.7/site-packages/google/protobuf/descriptor.py\", line 560, in __new__\n",
      "    _message.Message._CheckCalledFromGeneratedFile()\n",
      "TypeError: Descriptors cannot not be created directly.\n",
      "If this call came from a _pb2.py file, your generated code is out of date and must be regenerated with protoc >= 3.19.0.\n",
      "If you cannot immediately regenerate your protos, some other possible workarounds are:\n",
      " 1. Downgrade the protobuf package to 3.20.x or lower.\n",
      " 2. Set PROTOCOL_BUFFERS_PYTHON_IMPLEMENTATION=python (but this will use pure-Python parsing and will be much slower).\n",
      "\n",
      "More information: https://developers.google.com/protocol-buffers/docs/news/2022-05-06#python-updates\n"
     ]
    }
   ],
   "source": [
    "from __future__ import absolute_import\n",
    "from __future__  import division\n",
    "from __future__ import print_function\n",
    "import tensorflow as tf\n",
    "import numpy as np\n",
    "from skimage.io import imread\n",
    "from skimage.transform import resize\n",
    "import cv2\n",
    "import numpy as np\n",
    "import pandas as pd\n",
    "import matplotlib.pyplot as plt"
   ]
  },
  {
   "cell_type": "code",
   "execution_count": 1,
   "metadata": {
    "pycharm": {
     "is_executing": true
    }
   },
   "outputs": [],
   "source": [
    "import os"
   ]
  },
  {
   "cell_type": "code",
   "execution_count": 2,
   "metadata": {
    "pycharm": {
     "is_executing": true
    }
   },
   "outputs": [
    {
     "name": "stdout",
     "output_type": "stream",
     "text": [
      "ERROR! Session/line number was not unique in database. History logging moved to new session 8\n"
     ]
    }
   ],
   "source": [
    "from mamonfight22 import *"
   ]
  },
  {
   "cell_type": "code",
   "execution_count": null,
   "metadata": {
    "pycharm": {
     "is_executing": true
    }
   },
   "outputs": [],
   "source": [
    "print('this')"
   ]
  },
  {
   "cell_type": "code",
   "execution_count": null,
   "metadata": {
    "pycharm": {
     "is_executing": true
    }
   },
   "outputs": [],
   "source": [
    "model = mamon_videoFightModel2(tf,wight='mamonedeffrbktoldmmon.hdf5')"
   ]
  },
  {
   "cell_type": "code",
   "execution_count": null,
   "metadata": {
    "pycharm": {
     "is_executing": true
    }
   },
   "outputs": [],
   "source": [
    "cap = cv2.VideoCapture('hospital.mp4')\n",
    "i = 0\n",
    "frames = np.zeros((30, 160, 160, 3), dtype=np.float)\n",
    "old = []\n",
    "j = 0\n",
    "while(True):\n",
    "    ret, frame = cap.read()\n",
    "  \n",
    "    # describe the type of font\n",
    "    # to be used.\n",
    "    font = cv2.FONT_HERSHEY_SIMPLEX\n",
    "    if i > 29:\n",
    "        ysdatav2 = np.zeros((1, 30, 160, 160, 3), dtype=np.float)\n",
    "        ysdatav2[0][:][:] = frames\n",
    "        predaction = pred_fight(model,ysdatav2,acuracy=0.96)\n",
    "        if predaction[0] == True:\n",
    "            cv2.putText(frame, \n",
    "                'Violance Deacted  ... Violence .. violence', \n",
    "                (50, 50), \n",
    "                font, 3, \n",
    "                (0, 255, 255), \n",
    "                2, \n",
    "                cv2.LINE_4)\n",
    "            cv2.imshow('video', frame)\n",
    "            print('Violance detacted here ...')\n",
    "            fourcc = cv2.VideoWriter_fourcc(*'XVID')\n",
    "            vio = cv2.VideoWriter(\"videos/output-\"+str(j)+\".avi\", fourcc, 10.0, (fwidth,fheight))\n",
    "            #vio = cv2.VideoWriter(\"./videos/output-\"+str(j)+\".mp4\", cv2.VideoWriter_fourcc(*'mp4v'), 10, (300, 400))\n",
    "            for frameinss in old:\n",
    "                vio.write(frameinss)\n",
    "            vio.release()\n",
    "        i = 0\n",
    "        j += 1\n",
    "        frames = np.zeros((30, 160, 160, 3), dtype=np.float)\n",
    "        old = []\n",
    "    else:\n",
    "        frm = resize(frame,(160,160,3))\n",
    "        old.append(frame)\n",
    "        fshape = frame.shape\n",
    "        fheight = fshape[0]\n",
    "        fwidth = fshape[1]\n",
    "        frm = np.expand_dims(frm,axis=0)\n",
    "        if(np.max(frm)>1):\n",
    "            frm = frm/255.0\n",
    "        frames[i][:] = frm\n",
    "        \n",
    "        i+=1\n",
    "    \n",
    "    cv2.imshow('video', frame)\n",
    "  \n",
    "\n",
    "    if cv2.waitKey(1) & 0xFF == ord('q'):\n",
    "        break\n",
    "\n",
    "cap.release()\n",
    "\n",
    "cv2.destroyAllWindows()"
   ]
  },
  {
   "cell_type": "code",
   "execution_count": null,
   "metadata": {},
   "outputs": [],
   "source": [
    "import time\n",
    "millis = int(round(time.time() * 1000))\n",
    "print(\"started at \" , millis)\n",
    "vid = video_mamonreader(cv2,'dvpalfight.dvd')\n",
    "millis2 = int(round(time.time() * 1000))\n",
    "print(\"time processing \" , millis2 - millis)"
   ]
  },
  {
   "cell_type": "code",
   "execution_count": null,
   "metadata": {},
   "outputs": [],
   "source": [
    "datav = np.zeros((1, 30, 160, 160, 3), dtype=np.float)"
   ]
  },
  {
   "cell_type": "code",
   "execution_count": null,
   "metadata": {},
   "outputs": [],
   "source": [
    "datav[0][:][:] = vid"
   ]
  },
  {
   "cell_type": "code",
   "execution_count": null,
   "metadata": {},
   "outputs": [],
   "source": [
    "millis = int(round(time.time() * 1000))\n",
    "print(\"started at \" , millis)\n",
    "print(pred_fight(model,datav,acuracy=0.6))\n",
    "millis2 = int(round(time.time() * 1000))\n",
    "print(\"time processing \" , millis2 - millis)"
   ]
  },
  {
   "cell_type": "code",
   "execution_count": null,
   "metadata": {},
   "outputs": [],
   "source": [
    "def video_mamonreader(cv2,filename):\n",
    "    frames = np.zeros((30, 160, 160, 3), dtype=np.float)\n",
    "    i=0\n",
    "    print(frames.shape)\n",
    "    vc = cv2.VideoCapture(filename)\n",
    "    if vc.isOpened():\n",
    "        rval , frame = vc.read()\n",
    "    else:\n",
    "        rval = False\n",
    "    frm = resize(frame,(160,160,3))\n",
    "    frm = np.expand_dims(frm,axis=0)\n",
    "    if(np.max(frm)>1):\n",
    "        frm = frm/255.0\n",
    "    frames[i][:] = frm\n",
    "    i +=1\n",
    "    print(\"reading video\")\n",
    "    while i < 30:\n",
    "        rval, frame = vc.read()\n",
    "        frm = resize(frame,(160,160,3))\n",
    "        frm = np.expand_dims(frm,axis=0)\n",
    "        if(np.max(frm)>1):\n",
    "            frm = frm/255.0\n",
    "        frames[i][:] = frm\n",
    "        i +=1\n",
    "    return frames"
   ]
  },
  {
   "cell_type": "code",
   "execution_count": null,
   "metadata": {},
   "outputs": [],
   "source": [
    "novid = video_mamonreader(cv2,'nofight.mp4')"
   ]
  },
  {
   "cell_type": "code",
   "execution_count": null,
   "metadata": {},
   "outputs": [],
   "source": [
    "nodatav = np.zeros((1, 40, 170, 170, 3), dtype=np.float)"
   ]
  },
  {
   "cell_type": "code",
   "execution_count": null,
   "metadata": {},
   "outputs": [],
   "source": [
    "nodatav[0][:][:] = novid"
   ]
  },
  {
   "cell_type": "code",
   "execution_count": null,
   "metadata": {},
   "outputs": [],
   "source": [
    "pred_fight(model,nodatav,acuracy=0.6)"
   ]
  },
  {
   "cell_type": "code",
   "execution_count": null,
   "metadata": {},
   "outputs": [],
   "source": []
  },
  {
   "cell_type": "code",
   "execution_count": 6,
   "metadata": {},
   "outputs": [
    {
     "name": "stdout",
     "output_type": "stream",
     "text": [
      "(30, 160, 160, 3)\n",
      "reading video\n"
     ]
    }
   ],
   "source": [
    "ysvid2 = video_mamonreader(cv2,'hdfight.mp4')"
   ]
  },
  {
   "cell_type": "code",
   "execution_count": 7,
   "metadata": {},
   "outputs": [],
   "source": [
    "ysdatav2 = np.zeros((1, 30, 160, 160, 3), dtype=np.float)"
   ]
  },
  {
   "cell_type": "code",
   "execution_count": 8,
   "metadata": {},
   "outputs": [],
   "source": [
    "ysdatav2[0][:][:] = ysvid2"
   ]
  },
  {
   "cell_type": "code",
   "execution_count": 9,
   "metadata": {},
   "outputs": [
    {
     "name": "stdout",
     "output_type": "stream",
     "text": [
      "started at  1625751803800\n",
      "(True, 0.9841797)\n",
      "time processing  8053\n"
     ]
    }
   ],
   "source": [
    "import time\n",
    "\n",
    "millis = int(round(time.time() * 1000))\n",
    "print(\"started at \" , millis)\n",
    "predaction = pred_fight(model,ysdatav2,acuracy=0.9)\n",
    "print(predaction)\n",
    "millis2 = int(round(time.time() * 1000))\n",
    "print(\"time processing \" , millis2 - millis)\n"
   ]
  },
  {
   "cell_type": "code",
   "execution_count": 11,
   "metadata": {},
   "outputs": [
    {
     "name": "stdout",
     "output_type": "stream",
     "text": [
      "violence\n"
     ]
    }
   ],
   "source": [
    "if predaction[0] == True:\n",
    "    print('violence')"
   ]
  },
  {
   "cell_type": "code",
   "execution_count": null,
   "metadata": {},
   "outputs": [],
   "source": [
    "novid3 = video_mamonreader(cv2,'golsss.mp4')"
   ]
  },
  {
   "cell_type": "code",
   "execution_count": null,
   "metadata": {},
   "outputs": [],
   "source": [
    "nodatav3 = np.zeros((1, 30, 160, 160, 3), dtype=np.float)\n",
    "nodatav3[0][:][:] = novid3"
   ]
  },
  {
   "cell_type": "code",
   "execution_count": null,
   "metadata": {},
   "outputs": [],
   "source": [
    "millis = int(round(time.time() * 1000))\n",
    "print(\"started at \" , millis)\n",
    "print(pred_fight(model,nodatav3,acuracy=0.8))\n",
    "millis2 = int(round(time.time() * 1000))\n",
    "print(\"time processing \" , millis2 - millis)\n"
   ]
  },
  {
   "cell_type": "code",
   "execution_count": null,
   "metadata": {},
   "outputs": [],
   "source": [
    "\n",
    "novid4 = video_mamonreader(cv2,'dvpalfight.dvd')"
   ]
  },
  {
   "cell_type": "code",
   "execution_count": null,
   "metadata": {},
   "outputs": [],
   "source": [
    "nodatav4 = np.zeros((1, 30, 160, 160, 3), dtype=np.float)\n",
    "nodatav4[0][:][:] = novid4"
   ]
  },
  {
   "cell_type": "code",
   "execution_count": null,
   "metadata": {},
   "outputs": [],
   "source": [
    "millis = int(round(time.time() * 1000))\n",
    "print(\"started at \" , millis)\n",
    "print(pred_fight(model,nodatav4,acuracy=0.9))\n",
    "millis2 = int(round(time.time() * 1000))\n",
    "print(\"time processing \" , millis2 - millis)"
   ]
  },
  {
   "cell_type": "code",
   "execution_count": null,
   "metadata": {},
   "outputs": [],
   "source": []
  }
 ],
 "metadata": {
  "kernelspec": {
   "display_name": "Python 3 (ipykernel)",
   "language": "python",
   "name": "python3"
  },
  "language_info": {
   "codemirror_mode": {
    "name": "ipython",
    "version": 3
   },
   "file_extension": ".py",
   "mimetype": "text/x-python",
   "name": "python",
   "nbconvert_exporter": "python",
   "pygments_lexer": "ipython3",
   "version": "3.7.15"
  }
 },
 "nbformat": 4,
 "nbformat_minor": 2
}
